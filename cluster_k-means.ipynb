{
 "cells": [
  {
   "cell_type": "markdown",
   "metadata": {},
   "source": [
    " Clustering con el Modelo k-means al Dataframe Forbes 2023\n",
    "\n",
    " k-means es uno de los algoritmos de aprendizaje automático no supervisado más popular. El objetivo de k-means es simple: agrupa puntos de datos similares con el objetivo de descubrir patrones subyacentes. Para lograr este objetivo, k-means busca un número fijo (k) de agrupamientos (clústers) en el conjunto de datos .\n",
    "\n",
    "![kmeans](image-1.png)   \n"
   ]
  },
  {
   "cell_type": "markdown",
   "metadata": {},
   "source": [
    "Funcionamiento básico de k-means.\n",
    "\n",
    "En k-means se define de inicio un número k, que se refiere al número de centroides en los que se dividirá el conjunto de datos. Cada centroide sería la ubicación que marca el centro de cada agrupación.\n",
    "\n",
    "A cada punto se asigna uno de los grupos mediante la reducción de la suma de cuadrados en el grupo. Dicho de otra forma, el algoritmo k-means identifica k número de centroides, y luego asigna cada punto de los datos al grupo más cercano, mientras mantiene los centroides lo más pequeños posible.\n",
    "\n",
    "Una vez se tiene cada punto asociado a un clúster, se puuede etiquetar en el dataframe original asociándolo a dicho grupo y “catalogando” por tanto los datos."
   ]
  },
  {
   "cell_type": "markdown",
   "metadata": {},
   "source": [
    "Datos de inicio: Dataframe forbes23.\n",
    "\n",
    "Se Va a aplicar el algoritmo sobre un conjunto de datos deL Dataframe forbes 2023  revista de economia forbes para determinar cómo se agrupan usando k-means. \n",
    "\n",
    "De dichos datos, se buscaran patrones de agrupamiento entre dos señales elegidas, en este caso se selecciona la señal SALES (ventas de las principales empresas en cifras en millones de dolares) y la señal ASSETS (ganancias de las principales empresas en cifras en millones de dolares). Se cuenta con una dataframe con un total de 2000 registros que ya pasaron por el proceso de limpieza.\n",
    "\n",
    "NOTA: Se puede aplicar k-means sobre todas las señales/variables necesarias, pero para poder visualizar los agrupamientos k-means en una gráfica 2-D se aplicara el algoritmo exclusivamente sobre la dos señales anteriormente detalladas."
   ]
  },
  {
   "cell_type": "code",
   "execution_count": 96,
   "metadata": {},
   "outputs": [],
   "source": [
    "# Carga de librerías.\n",
    "\n",
    "import os # directorios de trabajo\n",
    "import seaborn as sns\n",
    "import numpy as np # metodos numericos y manipulación de array\n",
    "from scipy.spatial import distance\n",
    "import pandas as pd # Data frame\n",
    "import matplotlib.pyplot as plt # componente grafico\n",
    "from sklearn.preprocessing import MinMaxScaler # Preprocessing para normalizar los datos antes de aplicar al algoritmo\n",
    "from sklearn.cluster import KMeans # KMeans para realizar el clustering"
   ]
  },
  {
   "cell_type": "code",
   "execution_count": 55,
   "metadata": {},
   "outputs": [
    {
     "data": {
      "text/plain": [
       "'c:\\\\Users\\\\USUARIO\\\\OneDrive\\\\Documentos\\\\Uibero Ing de Software\\\\8 SEMESTRE\\\\Inteligencia_artificial-main'"
      ]
     },
     "execution_count": 55,
     "metadata": {},
     "output_type": "execute_result"
    }
   ],
   "source": [
    "# Establecer directorio de trabajo (working directory) e importar el Dataframe forbes23\n",
    "\n",
    "os.getcwd() "
   ]
  },
  {
   "cell_type": "code",
   "execution_count": 56,
   "metadata": {},
   "outputs": [
    {
     "data": {
      "text/plain": [
       "['.git',\n",
       " '1. Introduccion.ipynb',\n",
       " '2. Numpy.ipynb',\n",
       " '3. PandasForbes.ipynb',\n",
       " 'Aactividad 1.docx',\n",
       " 'caracteristicas de vinos.csv',\n",
       " 'cluster_k-means.ipynb',\n",
       " 'Explicacion del modelo kmeans.ipynb',\n",
       " 'Forbes',\n",
       " 'forbes23.ipynb',\n",
       " 'image-1.png',\n",
       " 'image.png',\n",
       " 'ipynb',\n",
       " 'Mall_Customers.csv',\n",
       " 'Project kmeans customer.ipynb',\n",
       " 'pruebaforbes.ipynb']"
      ]
     },
     "execution_count": 56,
     "metadata": {},
     "output_type": "execute_result"
    }
   ],
   "source": [
    "# Mostrar los Archivos que hay en el ditrectorio de trabajo\n",
    "os.listdir() "
   ]
  },
  {
   "cell_type": "code",
   "execution_count": 57,
   "metadata": {},
   "outputs": [],
   "source": [
    "# Importación de la base de datos\n",
    "\n",
    "forbes23 = pd.read_csv('Forbes\\Forbes2023.csv',encoding= 'latin-1',sep=';') "
   ]
  },
  {
   "cell_type": "code",
   "execution_count": 58,
   "metadata": {},
   "outputs": [
    {
     "data": {
      "text/html": [
       "<div>\n",
       "<style scoped>\n",
       "    .dataframe tbody tr th:only-of-type {\n",
       "        vertical-align: middle;\n",
       "    }\n",
       "\n",
       "    .dataframe tbody tr th {\n",
       "        vertical-align: top;\n",
       "    }\n",
       "\n",
       "    .dataframe thead th {\n",
       "        text-align: right;\n",
       "    }\n",
       "</style>\n",
       "<table border=\"1\" class=\"dataframe\">\n",
       "  <thead>\n",
       "    <tr style=\"text-align: right;\">\n",
       "      <th></th>\n",
       "      <th>Rank</th>\n",
       "      <th>Company Name</th>\n",
       "      <th>Country</th>\n",
       "      <th>Sales\\n($millions)</th>\n",
       "      <th>Profits\\n($millions)</th>\n",
       "      <th>Assets\\n($millions)</th>\n",
       "      <th>Market Value \\nAs of 05/05/23 ($m)</th>\n",
       "    </tr>\n",
       "  </thead>\n",
       "  <tbody>\n",
       "    <tr>\n",
       "      <th>0</th>\n",
       "      <td>1</td>\n",
       "      <td>JPMorgan Chase</td>\n",
       "      <td>United States</td>\n",
       "      <td>179930</td>\n",
       "      <td>41800</td>\n",
       "      <td>3744300</td>\n",
       "      <td>399590</td>\n",
       "    </tr>\n",
       "    <tr>\n",
       "      <th>1</th>\n",
       "      <td>2</td>\n",
       "      <td>Saudi Arabian Oil Company (Saudi Aramco)</td>\n",
       "      <td>Saudi Arabia</td>\n",
       "      <td>589470</td>\n",
       "      <td>156360</td>\n",
       "      <td>660990</td>\n",
       "      <td>2055220</td>\n",
       "    </tr>\n",
       "    <tr>\n",
       "      <th>2</th>\n",
       "      <td>3</td>\n",
       "      <td>ICBC</td>\n",
       "      <td>China</td>\n",
       "      <td>216770</td>\n",
       "      <td>52470</td>\n",
       "      <td>6116820</td>\n",
       "      <td>203010</td>\n",
       "    </tr>\n",
       "    <tr>\n",
       "      <th>3</th>\n",
       "      <td>4</td>\n",
       "      <td>China Construction Bank</td>\n",
       "      <td>China</td>\n",
       "      <td>203080</td>\n",
       "      <td>48250</td>\n",
       "      <td>4977480</td>\n",
       "      <td>172990</td>\n",
       "    </tr>\n",
       "    <tr>\n",
       "      <th>4</th>\n",
       "      <td>5</td>\n",
       "      <td>Agricultural Bank of China</td>\n",
       "      <td>China</td>\n",
       "      <td>186140</td>\n",
       "      <td>37920</td>\n",
       "      <td>5356860</td>\n",
       "      <td>141820</td>\n",
       "    </tr>\n",
       "    <tr>\n",
       "      <th>...</th>\n",
       "      <td>...</td>\n",
       "      <td>...</td>\n",
       "      <td>...</td>\n",
       "      <td>...</td>\n",
       "      <td>...</td>\n",
       "      <td>...</td>\n",
       "      <td>...</td>\n",
       "    </tr>\n",
       "    <tr>\n",
       "      <th>1995</th>\n",
       "      <td>1996</td>\n",
       "      <td>Alfa Laval</td>\n",
       "      <td>Sweden</td>\n",
       "      <td>5350</td>\n",
       "      <td>489,5</td>\n",
       "      <td>7820</td>\n",
       "      <td>15600</td>\n",
       "    </tr>\n",
       "    <tr>\n",
       "      <th>1996</th>\n",
       "      <td>1996</td>\n",
       "      <td>Gap</td>\n",
       "      <td>United States</td>\n",
       "      <td>15620</td>\n",
       "      <td>-202</td>\n",
       "      <td>11390</td>\n",
       "      <td>3170</td>\n",
       "    </tr>\n",
       "    <tr>\n",
       "      <th>1997</th>\n",
       "      <td>1996</td>\n",
       "      <td>Yes Bank</td>\n",
       "      <td>India</td>\n",
       "      <td>3340</td>\n",
       "      <td>91,6</td>\n",
       "      <td>43220</td>\n",
       "      <td>5600</td>\n",
       "    </tr>\n",
       "    <tr>\n",
       "      <th>1998</th>\n",
       "      <td>1999</td>\n",
       "      <td>BEKB-BCBE</td>\n",
       "      <td>Switzerland</td>\n",
       "      <td>556</td>\n",
       "      <td>167,1</td>\n",
       "      <td>42970</td>\n",
       "      <td>2490</td>\n",
       "    </tr>\n",
       "    <tr>\n",
       "      <th>1999</th>\n",
       "      <td>1999</td>\n",
       "      <td>Ipsen</td>\n",
       "      <td>France</td>\n",
       "      <td>3180</td>\n",
       "      <td>681,7</td>\n",
       "      <td>5990</td>\n",
       "      <td>10210</td>\n",
       "    </tr>\n",
       "  </tbody>\n",
       "</table>\n",
       "<p>2000 rows × 7 columns</p>\n",
       "</div>"
      ],
      "text/plain": [
       "      Rank                              Company Name        Country  \\\n",
       "0        1                            JPMorgan Chase  United States   \n",
       "1        2  Saudi Arabian Oil Company (Saudi Aramco)   Saudi Arabia   \n",
       "2        3                                      ICBC          China   \n",
       "3        4                   China Construction Bank          China   \n",
       "4        5                Agricultural Bank of China          China   \n",
       "...    ...                                       ...            ...   \n",
       "1995  1996                                Alfa Laval         Sweden   \n",
       "1996  1996                                       Gap  United States   \n",
       "1997  1996                                  Yes Bank          India   \n",
       "1998  1999                                 BEKB-BCBE    Switzerland   \n",
       "1999  1999                                     Ipsen         France   \n",
       "\n",
       "      Sales\\n($millions) Profits\\n($millions)  Assets\\n($millions)  \\\n",
       "0                 179930                41800              3744300   \n",
       "1                 589470               156360               660990   \n",
       "2                 216770                52470              6116820   \n",
       "3                 203080                48250              4977480   \n",
       "4                 186140                37920              5356860   \n",
       "...                  ...                  ...                  ...   \n",
       "1995                5350                489,5                 7820   \n",
       "1996               15620                 -202                11390   \n",
       "1997                3340                 91,6                43220   \n",
       "1998                 556                167,1                42970   \n",
       "1999                3180                681,7                 5990   \n",
       "\n",
       "      Market Value \\nAs of 05/05/23 ($m)  \n",
       "0                                 399590  \n",
       "1                                2055220  \n",
       "2                                 203010  \n",
       "3                                 172990  \n",
       "4                                 141820  \n",
       "...                                  ...  \n",
       "1995                               15600  \n",
       "1996                                3170  \n",
       "1997                                5600  \n",
       "1998                                2490  \n",
       "1999                               10210  \n",
       "\n",
       "[2000 rows x 7 columns]"
      ]
     },
     "execution_count": 58,
     "metadata": {},
     "output_type": "execute_result"
    }
   ],
   "source": [
    "forbes23"
   ]
  },
  {
   "cell_type": "code",
   "execution_count": 59,
   "metadata": {},
   "outputs": [
    {
     "name": "stdout",
     "output_type": "stream",
     "text": [
      "(2000, 7)\n",
      "Index(['Rank', 'Company Name', 'Country', 'Sales\\n($millions)',\n",
      "       'Profits\\n($millions)', 'Assets\\n($millions)',\n",
      "       'Market Value \\nAs of 05/05/23 ($m)'],\n",
      "      dtype='object')\n"
     ]
    }
   ],
   "source": [
    "# método que devuelve la dimención del array en este caso serian 2000 empresas y 7 columnas\n",
    "print(forbes23.shape) \n",
    "# muestra las columnas del DataFrame.\n",
    "print(forbes23.columns) "
   ]
  },
  {
   "cell_type": "code",
   "execution_count": 60,
   "metadata": {},
   "outputs": [
    {
     "data": {
      "text/plain": [
       "Index(['Rank', 'Company', 'Country', 'Sales', 'Profits', 'Assets',\n",
       "       'Market_value'],\n",
       "      dtype='object')"
      ]
     },
     "execution_count": 60,
     "metadata": {},
     "output_type": "execute_result"
    }
   ],
   "source": [
    "### Proceso de Limpieza de Datos: Cambiar el nombre de las variables \n",
    "forbes23.columns = ['Rank','Company','Country','Sales','Profits','Assets','Market_value']\n",
    "forbes23.columns"
   ]
  },
  {
   "cell_type": "code",
   "execution_count": 61,
   "metadata": {},
   "outputs": [
    {
     "data": {
      "text/html": [
       "<div>\n",
       "<style scoped>\n",
       "    .dataframe tbody tr th:only-of-type {\n",
       "        vertical-align: middle;\n",
       "    }\n",
       "\n",
       "    .dataframe tbody tr th {\n",
       "        vertical-align: top;\n",
       "    }\n",
       "\n",
       "    .dataframe thead th {\n",
       "        text-align: right;\n",
       "    }\n",
       "</style>\n",
       "<table border=\"1\" class=\"dataframe\">\n",
       "  <thead>\n",
       "    <tr style=\"text-align: right;\">\n",
       "      <th></th>\n",
       "      <th>Rank</th>\n",
       "      <th>Company</th>\n",
       "      <th>Country</th>\n",
       "      <th>Sales</th>\n",
       "      <th>Profits</th>\n",
       "      <th>Assets</th>\n",
       "      <th>Market_value</th>\n",
       "    </tr>\n",
       "  </thead>\n",
       "  <tbody>\n",
       "    <tr>\n",
       "      <th>0</th>\n",
       "      <td>1</td>\n",
       "      <td>JPMorgan Chase</td>\n",
       "      <td>United States</td>\n",
       "      <td>179930</td>\n",
       "      <td>41800</td>\n",
       "      <td>3744300</td>\n",
       "      <td>399590</td>\n",
       "    </tr>\n",
       "    <tr>\n",
       "      <th>1</th>\n",
       "      <td>2</td>\n",
       "      <td>Saudi Arabian Oil Company (Saudi Aramco)</td>\n",
       "      <td>Saudi Arabia</td>\n",
       "      <td>589470</td>\n",
       "      <td>156360</td>\n",
       "      <td>660990</td>\n",
       "      <td>2055220</td>\n",
       "    </tr>\n",
       "    <tr>\n",
       "      <th>2</th>\n",
       "      <td>3</td>\n",
       "      <td>ICBC</td>\n",
       "      <td>China</td>\n",
       "      <td>216770</td>\n",
       "      <td>52470</td>\n",
       "      <td>6116820</td>\n",
       "      <td>203010</td>\n",
       "    </tr>\n",
       "    <tr>\n",
       "      <th>3</th>\n",
       "      <td>4</td>\n",
       "      <td>China Construction Bank</td>\n",
       "      <td>China</td>\n",
       "      <td>203080</td>\n",
       "      <td>48250</td>\n",
       "      <td>4977480</td>\n",
       "      <td>172990</td>\n",
       "    </tr>\n",
       "    <tr>\n",
       "      <th>4</th>\n",
       "      <td>5</td>\n",
       "      <td>Agricultural Bank of China</td>\n",
       "      <td>China</td>\n",
       "      <td>186140</td>\n",
       "      <td>37920</td>\n",
       "      <td>5356860</td>\n",
       "      <td>141820</td>\n",
       "    </tr>\n",
       "    <tr>\n",
       "      <th>5</th>\n",
       "      <td>6</td>\n",
       "      <td>Bank of America</td>\n",
       "      <td>United States</td>\n",
       "      <td>133840</td>\n",
       "      <td>28620</td>\n",
       "      <td>3194660</td>\n",
       "      <td>220820</td>\n",
       "    </tr>\n",
       "    <tr>\n",
       "      <th>6</th>\n",
       "      <td>7</td>\n",
       "      <td>Alphabet</td>\n",
       "      <td>United States</td>\n",
       "      <td>282850</td>\n",
       "      <td>58590</td>\n",
       "      <td>369490</td>\n",
       "      <td>1340530</td>\n",
       "    </tr>\n",
       "    <tr>\n",
       "      <th>7</th>\n",
       "      <td>8</td>\n",
       "      <td>ExxonMobil</td>\n",
       "      <td>United States</td>\n",
       "      <td>393160</td>\n",
       "      <td>61690</td>\n",
       "      <td>369370</td>\n",
       "      <td>439390</td>\n",
       "    </tr>\n",
       "    <tr>\n",
       "      <th>8</th>\n",
       "      <td>9</td>\n",
       "      <td>Microsoft</td>\n",
       "      <td>United States</td>\n",
       "      <td>207590</td>\n",
       "      <td>69020</td>\n",
       "      <td>380090</td>\n",
       "      <td>2309840</td>\n",
       "    </tr>\n",
       "    <tr>\n",
       "      <th>9</th>\n",
       "      <td>10</td>\n",
       "      <td>Apple</td>\n",
       "      <td>United States</td>\n",
       "      <td>385100</td>\n",
       "      <td>94320</td>\n",
       "      <td>332160</td>\n",
       "      <td>2746210</td>\n",
       "    </tr>\n",
       "  </tbody>\n",
       "</table>\n",
       "</div>"
      ],
      "text/plain": [
       "   Rank                                   Company        Country   Sales  \\\n",
       "0     1                            JPMorgan Chase  United States  179930   \n",
       "1     2  Saudi Arabian Oil Company (Saudi Aramco)   Saudi Arabia  589470   \n",
       "2     3                                      ICBC          China  216770   \n",
       "3     4                   China Construction Bank          China  203080   \n",
       "4     5                Agricultural Bank of China          China  186140   \n",
       "5     6                           Bank of America  United States  133840   \n",
       "6     7                                  Alphabet  United States  282850   \n",
       "7     8                                ExxonMobil  United States  393160   \n",
       "8     9                                 Microsoft  United States  207590   \n",
       "9    10                                     Apple  United States  385100   \n",
       "\n",
       "  Profits   Assets  Market_value  \n",
       "0   41800  3744300        399590  \n",
       "1  156360   660990       2055220  \n",
       "2   52470  6116820        203010  \n",
       "3   48250  4977480        172990  \n",
       "4   37920  5356860        141820  \n",
       "5   28620  3194660        220820  \n",
       "6   58590   369490       1340530  \n",
       "7   61690   369370        439390  \n",
       "8   69020   380090       2309840  \n",
       "9   94320   332160       2746210  "
      ]
     },
     "execution_count": 61,
     "metadata": {},
     "output_type": "execute_result"
    }
   ],
   "source": [
    "forbes23.head(n=10) # Top 10 de las empresas de Forbes 2023\n",
    "#forbes23.tail(n=9) #Las últimas 5"
   ]
  },
  {
   "cell_type": "code",
   "execution_count": 62,
   "metadata": {},
   "outputs": [
    {
     "data": {
      "text/html": [
       "<div>\n",
       "<style scoped>\n",
       "    .dataframe tbody tr th:only-of-type {\n",
       "        vertical-align: middle;\n",
       "    }\n",
       "\n",
       "    .dataframe tbody tr th {\n",
       "        vertical-align: top;\n",
       "    }\n",
       "\n",
       "    .dataframe thead th {\n",
       "        text-align: right;\n",
       "    }\n",
       "</style>\n",
       "<table border=\"1\" class=\"dataframe\">\n",
       "  <thead>\n",
       "    <tr style=\"text-align: right;\">\n",
       "      <th></th>\n",
       "      <th>Rank</th>\n",
       "      <th>Company</th>\n",
       "      <th>Country</th>\n",
       "      <th>Sales</th>\n",
       "      <th>Profits</th>\n",
       "      <th>Assets</th>\n",
       "      <th>Market_value</th>\n",
       "    </tr>\n",
       "  </thead>\n",
       "  <tbody>\n",
       "    <tr>\n",
       "      <th>0</th>\n",
       "      <td>1</td>\n",
       "      <td>JPMorgan Chase</td>\n",
       "      <td>United States</td>\n",
       "      <td>179930</td>\n",
       "      <td>41800</td>\n",
       "      <td>3744300</td>\n",
       "      <td>399590</td>\n",
       "    </tr>\n",
       "    <tr>\n",
       "      <th>1</th>\n",
       "      <td>2</td>\n",
       "      <td>Saudi Arabian Oil Company (Saudi Aramco)</td>\n",
       "      <td>Saudi Arabia</td>\n",
       "      <td>589470</td>\n",
       "      <td>156360</td>\n",
       "      <td>660990</td>\n",
       "      <td>2055220</td>\n",
       "    </tr>\n",
       "    <tr>\n",
       "      <th>2</th>\n",
       "      <td>3</td>\n",
       "      <td>ICBC</td>\n",
       "      <td>China</td>\n",
       "      <td>216770</td>\n",
       "      <td>52470</td>\n",
       "      <td>6116820</td>\n",
       "      <td>203010</td>\n",
       "    </tr>\n",
       "    <tr>\n",
       "      <th>3</th>\n",
       "      <td>4</td>\n",
       "      <td>China Construction Bank</td>\n",
       "      <td>China</td>\n",
       "      <td>203080</td>\n",
       "      <td>48250</td>\n",
       "      <td>4977480</td>\n",
       "      <td>172990</td>\n",
       "    </tr>\n",
       "    <tr>\n",
       "      <th>4</th>\n",
       "      <td>5</td>\n",
       "      <td>Agricultural Bank of China</td>\n",
       "      <td>China</td>\n",
       "      <td>186140</td>\n",
       "      <td>37920</td>\n",
       "      <td>5356860</td>\n",
       "      <td>141820</td>\n",
       "    </tr>\n",
       "    <tr>\n",
       "      <th>...</th>\n",
       "      <td>...</td>\n",
       "      <td>...</td>\n",
       "      <td>...</td>\n",
       "      <td>...</td>\n",
       "      <td>...</td>\n",
       "      <td>...</td>\n",
       "      <td>...</td>\n",
       "    </tr>\n",
       "    <tr>\n",
       "      <th>1995</th>\n",
       "      <td>1996</td>\n",
       "      <td>Alfa Laval</td>\n",
       "      <td>Sweden</td>\n",
       "      <td>5350</td>\n",
       "      <td>4895</td>\n",
       "      <td>7820</td>\n",
       "      <td>15600</td>\n",
       "    </tr>\n",
       "    <tr>\n",
       "      <th>1996</th>\n",
       "      <td>1996</td>\n",
       "      <td>Gap</td>\n",
       "      <td>United States</td>\n",
       "      <td>15620</td>\n",
       "      <td>-202</td>\n",
       "      <td>11390</td>\n",
       "      <td>3170</td>\n",
       "    </tr>\n",
       "    <tr>\n",
       "      <th>1997</th>\n",
       "      <td>1996</td>\n",
       "      <td>Yes Bank</td>\n",
       "      <td>India</td>\n",
       "      <td>3340</td>\n",
       "      <td>916</td>\n",
       "      <td>43220</td>\n",
       "      <td>5600</td>\n",
       "    </tr>\n",
       "    <tr>\n",
       "      <th>1998</th>\n",
       "      <td>1999</td>\n",
       "      <td>BEKB-BCBE</td>\n",
       "      <td>Switzerland</td>\n",
       "      <td>556</td>\n",
       "      <td>1671</td>\n",
       "      <td>42970</td>\n",
       "      <td>2490</td>\n",
       "    </tr>\n",
       "    <tr>\n",
       "      <th>1999</th>\n",
       "      <td>1999</td>\n",
       "      <td>Ipsen</td>\n",
       "      <td>France</td>\n",
       "      <td>3180</td>\n",
       "      <td>6817</td>\n",
       "      <td>5990</td>\n",
       "      <td>10210</td>\n",
       "    </tr>\n",
       "  </tbody>\n",
       "</table>\n",
       "<p>2000 rows × 7 columns</p>\n",
       "</div>"
      ],
      "text/plain": [
       "      Rank                                   Company        Country   Sales  \\\n",
       "0        1                            JPMorgan Chase  United States  179930   \n",
       "1        2  Saudi Arabian Oil Company (Saudi Aramco)   Saudi Arabia  589470   \n",
       "2        3                                      ICBC          China  216770   \n",
       "3        4                   China Construction Bank          China  203080   \n",
       "4        5                Agricultural Bank of China          China  186140   \n",
       "...    ...                                       ...            ...     ...   \n",
       "1995  1996                                Alfa Laval         Sweden    5350   \n",
       "1996  1996                                       Gap  United States   15620   \n",
       "1997  1996                                  Yes Bank          India    3340   \n",
       "1998  1999                                 BEKB-BCBE    Switzerland     556   \n",
       "1999  1999                                     Ipsen         France    3180   \n",
       "\n",
       "     Profits   Assets  Market_value  \n",
       "0      41800  3744300        399590  \n",
       "1     156360   660990       2055220  \n",
       "2      52470  6116820        203010  \n",
       "3      48250  4977480        172990  \n",
       "4      37920  5356860        141820  \n",
       "...      ...      ...           ...  \n",
       "1995    4895     7820         15600  \n",
       "1996    -202    11390          3170  \n",
       "1997     916    43220          5600  \n",
       "1998    1671    42970          2490  \n",
       "1999    6817     5990         10210  \n",
       "\n",
       "[2000 rows x 7 columns]"
      ]
     },
     "execution_count": 62,
     "metadata": {},
     "output_type": "execute_result"
    }
   ],
   "source": [
    "# Se Modifica el formato de los datos (Coerción de datos, quitar comas)\n",
    "\n",
    "forbes23 = forbes23.replace(',','',regex= True) # regex: expresión regular\n",
    "forbes23"
   ]
  },
  {
   "cell_type": "code",
   "execution_count": 63,
   "metadata": {},
   "outputs": [
    {
     "data": {
      "text/plain": [
       "Rank            0\n",
       "Company         0\n",
       "Country         0\n",
       "Sales           0\n",
       "Profits         0\n",
       "Assets          0\n",
       "Market_value    0\n",
       "dtype: int64"
      ]
     },
     "execution_count": 63,
     "metadata": {},
     "output_type": "execute_result"
    }
   ],
   "source": [
    "#preguntar si hay datos vacios o pedir suma, resultados sospechosos\n",
    "forbes23.isna().sum() "
   ]
  },
  {
   "cell_type": "code",
   "execution_count": 64,
   "metadata": {},
   "outputs": [
    {
     "data": {
      "text/plain": [
       "50844922"
      ]
     },
     "execution_count": 64,
     "metadata": {},
     "output_type": "execute_result"
    }
   ],
   "source": [
    "# sumar\n",
    "forbes23['Sales'].sum()"
   ]
  },
  {
   "cell_type": "markdown",
   "metadata": {},
   "source": [
    "Normalización de los datos.\n",
    "\n",
    "Como ocurre con cualquier algoritmo de Machine Learning que utilice funciones de distancia, los datos deben ser normalizados antes de aplicarles el algoritmo. En este caso se utilizara la función MinMaxScaler() que normaliza todos los datos entre [0, 1]."
   ]
  },
  {
   "cell_type": "code",
   "execution_count": 65,
   "metadata": {},
   "outputs": [],
   "source": [
    "# Se eliminan filas que tengan valor NaN.\n",
    "df = forbes23.dropna()\n",
    "df = df.reset_index(drop=True)"
   ]
  },
  {
   "cell_type": "code",
   "execution_count": 66,
   "metadata": {},
   "outputs": [
    {
     "data": {
      "text/plain": [
       "False"
      ]
     },
     "execution_count": 66,
     "metadata": {},
     "output_type": "execute_result"
    }
   ],
   "source": [
    "# se pregunta si alguno de los elementos de una lista esta vacio anidando con la funcion any\n",
    "forbes23.isna().any().any()  \n"
   ]
  },
  {
   "cell_type": "code",
   "execution_count": 67,
   "metadata": {},
   "outputs": [],
   "source": [
    "# filtrar datos mediante indices con la funcion iloc y cambiar el tipo de dato a float con la funcion astype.   \n",
    "forbes23.iloc[:,3:] = forbes23.iloc[:,3:].astype(float)"
   ]
  },
  {
   "cell_type": "code",
   "execution_count": 68,
   "metadata": {},
   "outputs": [
    {
     "data": {
      "text/plain": [
       "Rank            0\n",
       "Company         0\n",
       "Country         0\n",
       "Sales           0\n",
       "Profits         0\n",
       "Assets          0\n",
       "Market_value    0\n",
       "dtype: int64"
      ]
     },
     "execution_count": 68,
     "metadata": {},
     "output_type": "execute_result"
    }
   ],
   "source": [
    "# Se pregunta si hay datos vacios.\n",
    "forbes23.isna().sum()  "
   ]
  },
  {
   "cell_type": "code",
   "execution_count": 69,
   "metadata": {},
   "outputs": [
    {
     "data": {
      "text/plain": [
       "7666268.0"
      ]
     },
     "execution_count": 69,
     "metadata": {},
     "output_type": "execute_result"
    }
   ],
   "source": [
    "forbes23['Profits'].sum()"
   ]
  },
  {
   "cell_type": "code",
   "execution_count": 70,
   "metadata": {},
   "outputs": [
    {
     "data": {
      "text/plain": [
       "Rank              int64\n",
       "Company          object\n",
       "Country          object\n",
       "Sales           float64\n",
       "Profits          object\n",
       "Assets          float64\n",
       "Market_value    float64\n",
       "dtype: object"
      ]
     },
     "execution_count": 70,
     "metadata": {},
     "output_type": "execute_result"
    }
   ],
   "source": [
    "forbes23.dtypes "
   ]
  },
  {
   "cell_type": "code",
   "execution_count": 71,
   "metadata": {},
   "outputs": [
    {
     "data": {
      "text/html": [
       "<div>\n",
       "<style scoped>\n",
       "    .dataframe tbody tr th:only-of-type {\n",
       "        vertical-align: middle;\n",
       "    }\n",
       "\n",
       "    .dataframe tbody tr th {\n",
       "        vertical-align: top;\n",
       "    }\n",
       "\n",
       "    .dataframe thead th {\n",
       "        text-align: right;\n",
       "    }\n",
       "</style>\n",
       "<table border=\"1\" class=\"dataframe\">\n",
       "  <thead>\n",
       "    <tr style=\"text-align: right;\">\n",
       "      <th></th>\n",
       "      <th>Sales</th>\n",
       "      <th>Profits</th>\n",
       "      <th>Assets</th>\n",
       "      <th>Market_value</th>\n",
       "    </tr>\n",
       "  </thead>\n",
       "  <tbody>\n",
       "    <tr>\n",
       "      <th>0</th>\n",
       "      <td>179930.0</td>\n",
       "      <td>41800.0</td>\n",
       "      <td>3744300.0</td>\n",
       "      <td>399590.0</td>\n",
       "    </tr>\n",
       "    <tr>\n",
       "      <th>1</th>\n",
       "      <td>589470.0</td>\n",
       "      <td>156360.0</td>\n",
       "      <td>660990.0</td>\n",
       "      <td>2055220.0</td>\n",
       "    </tr>\n",
       "    <tr>\n",
       "      <th>2</th>\n",
       "      <td>216770.0</td>\n",
       "      <td>52470.0</td>\n",
       "      <td>6116820.0</td>\n",
       "      <td>203010.0</td>\n",
       "    </tr>\n",
       "    <tr>\n",
       "      <th>3</th>\n",
       "      <td>203080.0</td>\n",
       "      <td>48250.0</td>\n",
       "      <td>4977480.0</td>\n",
       "      <td>172990.0</td>\n",
       "    </tr>\n",
       "    <tr>\n",
       "      <th>4</th>\n",
       "      <td>186140.0</td>\n",
       "      <td>37920.0</td>\n",
       "      <td>5356860.0</td>\n",
       "      <td>141820.0</td>\n",
       "    </tr>\n",
       "    <tr>\n",
       "      <th>...</th>\n",
       "      <td>...</td>\n",
       "      <td>...</td>\n",
       "      <td>...</td>\n",
       "      <td>...</td>\n",
       "    </tr>\n",
       "    <tr>\n",
       "      <th>1995</th>\n",
       "      <td>5350.0</td>\n",
       "      <td>4895.0</td>\n",
       "      <td>7820.0</td>\n",
       "      <td>15600.0</td>\n",
       "    </tr>\n",
       "    <tr>\n",
       "      <th>1996</th>\n",
       "      <td>15620.0</td>\n",
       "      <td>-202.0</td>\n",
       "      <td>11390.0</td>\n",
       "      <td>3170.0</td>\n",
       "    </tr>\n",
       "    <tr>\n",
       "      <th>1997</th>\n",
       "      <td>3340.0</td>\n",
       "      <td>916.0</td>\n",
       "      <td>43220.0</td>\n",
       "      <td>5600.0</td>\n",
       "    </tr>\n",
       "    <tr>\n",
       "      <th>1998</th>\n",
       "      <td>556.0</td>\n",
       "      <td>1671.0</td>\n",
       "      <td>42970.0</td>\n",
       "      <td>2490.0</td>\n",
       "    </tr>\n",
       "    <tr>\n",
       "      <th>1999</th>\n",
       "      <td>3180.0</td>\n",
       "      <td>6817.0</td>\n",
       "      <td>5990.0</td>\n",
       "      <td>10210.0</td>\n",
       "    </tr>\n",
       "  </tbody>\n",
       "</table>\n",
       "<p>2000 rows × 4 columns</p>\n",
       "</div>"
      ],
      "text/plain": [
       "         Sales   Profits     Assets  Market_value\n",
       "0     179930.0   41800.0  3744300.0      399590.0\n",
       "1     589470.0  156360.0   660990.0     2055220.0\n",
       "2     216770.0   52470.0  6116820.0      203010.0\n",
       "3     203080.0   48250.0  4977480.0      172990.0\n",
       "4     186140.0   37920.0  5356860.0      141820.0\n",
       "...        ...       ...        ...           ...\n",
       "1995    5350.0    4895.0     7820.0       15600.0\n",
       "1996   15620.0    -202.0    11390.0        3170.0\n",
       "1997    3340.0     916.0    43220.0        5600.0\n",
       "1998     556.0    1671.0    42970.0        2490.0\n",
       "1999    3180.0    6817.0     5990.0       10210.0\n",
       "\n",
       "[2000 rows x 4 columns]"
      ]
     },
     "execution_count": 71,
     "metadata": {},
     "output_type": "execute_result"
    }
   ],
   "source": [
    "#Coercionar datos\n",
    "\n",
    "forbes23.iloc[:,3:].astype(float) "
   ]
  },
  {
   "cell_type": "code",
   "execution_count": 72,
   "metadata": {},
   "outputs": [],
   "source": [
    "# Coercionar los datos de str a float\n",
    "forbes23.iloc[:,3:] = forbes23.iloc[:,3:].astype(float) "
   ]
  },
  {
   "cell_type": "code",
   "execution_count": 73,
   "metadata": {},
   "outputs": [
    {
     "data": {
      "text/plain": [
       "Rank            False\n",
       "Company         False\n",
       "Country         False\n",
       "Sales           False\n",
       "Profits         False\n",
       "Assets          False\n",
       "Market_value    False\n",
       "dtype: bool"
      ]
     },
     "execution_count": 73,
     "metadata": {},
     "output_type": "execute_result"
    }
   ],
   "source": [
    "# Preguntar si hay datos vacios \n",
    "\n",
    "forbes23.isna().any() # Método de Pandas "
   ]
  },
  {
   "cell_type": "code",
   "execution_count": 74,
   "metadata": {},
   "outputs": [
    {
     "data": {
      "text/plain": [
       "False"
      ]
     },
     "execution_count": 74,
     "metadata": {},
     "output_type": "execute_result"
    }
   ],
   "source": [
    "# se pregunta si alguno de los elementos de una lista esta vacio anidando con la funcion any\n",
    "forbes23.isna().any().any()  \n"
   ]
  },
  {
   "cell_type": "code",
   "execution_count": 75,
   "metadata": {},
   "outputs": [
    {
     "data": {
      "text/html": [
       "<div>\n",
       "<style scoped>\n",
       "    .dataframe tbody tr th:only-of-type {\n",
       "        vertical-align: middle;\n",
       "    }\n",
       "\n",
       "    .dataframe tbody tr th {\n",
       "        vertical-align: top;\n",
       "    }\n",
       "\n",
       "    .dataframe thead th {\n",
       "        text-align: right;\n",
       "    }\n",
       "</style>\n",
       "<table border=\"1\" class=\"dataframe\">\n",
       "  <thead>\n",
       "    <tr style=\"text-align: right;\">\n",
       "      <th></th>\n",
       "      <th>Rank</th>\n",
       "      <th>Company</th>\n",
       "      <th>Country</th>\n",
       "      <th>Sales</th>\n",
       "      <th>Profits</th>\n",
       "      <th>Assets</th>\n",
       "      <th>Market_value</th>\n",
       "    </tr>\n",
       "  </thead>\n",
       "  <tbody>\n",
       "    <tr>\n",
       "      <th>0</th>\n",
       "      <td>1</td>\n",
       "      <td>JPMorgan Chase</td>\n",
       "      <td>United States</td>\n",
       "      <td>179930.0</td>\n",
       "      <td>41800.0</td>\n",
       "      <td>3744300.0</td>\n",
       "      <td>399590.0</td>\n",
       "    </tr>\n",
       "    <tr>\n",
       "      <th>1</th>\n",
       "      <td>2</td>\n",
       "      <td>Saudi Arabian Oil Company (Saudi Aramco)</td>\n",
       "      <td>Saudi Arabia</td>\n",
       "      <td>589470.0</td>\n",
       "      <td>156360.0</td>\n",
       "      <td>660990.0</td>\n",
       "      <td>2055220.0</td>\n",
       "    </tr>\n",
       "    <tr>\n",
       "      <th>2</th>\n",
       "      <td>3</td>\n",
       "      <td>ICBC</td>\n",
       "      <td>China</td>\n",
       "      <td>216770.0</td>\n",
       "      <td>52470.0</td>\n",
       "      <td>6116820.0</td>\n",
       "      <td>203010.0</td>\n",
       "    </tr>\n",
       "    <tr>\n",
       "      <th>3</th>\n",
       "      <td>4</td>\n",
       "      <td>China Construction Bank</td>\n",
       "      <td>China</td>\n",
       "      <td>203080.0</td>\n",
       "      <td>48250.0</td>\n",
       "      <td>4977480.0</td>\n",
       "      <td>172990.0</td>\n",
       "    </tr>\n",
       "    <tr>\n",
       "      <th>4</th>\n",
       "      <td>5</td>\n",
       "      <td>Agricultural Bank of China</td>\n",
       "      <td>China</td>\n",
       "      <td>186140.0</td>\n",
       "      <td>37920.0</td>\n",
       "      <td>5356860.0</td>\n",
       "      <td>141820.0</td>\n",
       "    </tr>\n",
       "    <tr>\n",
       "      <th>...</th>\n",
       "      <td>...</td>\n",
       "      <td>...</td>\n",
       "      <td>...</td>\n",
       "      <td>...</td>\n",
       "      <td>...</td>\n",
       "      <td>...</td>\n",
       "      <td>...</td>\n",
       "    </tr>\n",
       "    <tr>\n",
       "      <th>1995</th>\n",
       "      <td>1996</td>\n",
       "      <td>Alfa Laval</td>\n",
       "      <td>Sweden</td>\n",
       "      <td>5350.0</td>\n",
       "      <td>4895.0</td>\n",
       "      <td>7820.0</td>\n",
       "      <td>15600.0</td>\n",
       "    </tr>\n",
       "    <tr>\n",
       "      <th>1996</th>\n",
       "      <td>1996</td>\n",
       "      <td>Gap</td>\n",
       "      <td>United States</td>\n",
       "      <td>15620.0</td>\n",
       "      <td>-202.0</td>\n",
       "      <td>11390.0</td>\n",
       "      <td>3170.0</td>\n",
       "    </tr>\n",
       "    <tr>\n",
       "      <th>1997</th>\n",
       "      <td>1996</td>\n",
       "      <td>Yes Bank</td>\n",
       "      <td>India</td>\n",
       "      <td>3340.0</td>\n",
       "      <td>916.0</td>\n",
       "      <td>43220.0</td>\n",
       "      <td>5600.0</td>\n",
       "    </tr>\n",
       "    <tr>\n",
       "      <th>1998</th>\n",
       "      <td>1999</td>\n",
       "      <td>BEKB-BCBE</td>\n",
       "      <td>Switzerland</td>\n",
       "      <td>556.0</td>\n",
       "      <td>1671.0</td>\n",
       "      <td>42970.0</td>\n",
       "      <td>2490.0</td>\n",
       "    </tr>\n",
       "    <tr>\n",
       "      <th>1999</th>\n",
       "      <td>1999</td>\n",
       "      <td>Ipsen</td>\n",
       "      <td>France</td>\n",
       "      <td>3180.0</td>\n",
       "      <td>6817.0</td>\n",
       "      <td>5990.0</td>\n",
       "      <td>10210.0</td>\n",
       "    </tr>\n",
       "  </tbody>\n",
       "</table>\n",
       "<p>2000 rows × 7 columns</p>\n",
       "</div>"
      ],
      "text/plain": [
       "      Rank                                   Company        Country     Sales  \\\n",
       "0        1                            JPMorgan Chase  United States  179930.0   \n",
       "1        2  Saudi Arabian Oil Company (Saudi Aramco)   Saudi Arabia  589470.0   \n",
       "2        3                                      ICBC          China  216770.0   \n",
       "3        4                   China Construction Bank          China  203080.0   \n",
       "4        5                Agricultural Bank of China          China  186140.0   \n",
       "...    ...                                       ...            ...       ...   \n",
       "1995  1996                                Alfa Laval         Sweden    5350.0   \n",
       "1996  1996                                       Gap  United States   15620.0   \n",
       "1997  1996                                  Yes Bank          India    3340.0   \n",
       "1998  1999                                 BEKB-BCBE    Switzerland     556.0   \n",
       "1999  1999                                     Ipsen         France    3180.0   \n",
       "\n",
       "       Profits     Assets  Market_value  \n",
       "0      41800.0  3744300.0      399590.0  \n",
       "1     156360.0   660990.0     2055220.0  \n",
       "2      52470.0  6116820.0      203010.0  \n",
       "3      48250.0  4977480.0      172990.0  \n",
       "4      37920.0  5356860.0      141820.0  \n",
       "...        ...        ...           ...  \n",
       "1995    4895.0     7820.0       15600.0  \n",
       "1996    -202.0    11390.0        3170.0  \n",
       "1997     916.0    43220.0        5600.0  \n",
       "1998    1671.0    42970.0        2490.0  \n",
       "1999    6817.0     5990.0       10210.0  \n",
       "\n",
       "[2000 rows x 7 columns]"
      ]
     },
     "execution_count": 75,
     "metadata": {},
     "output_type": "execute_result"
    }
   ],
   "source": [
    "# Se Modifica el formato de los datos (Coerción de datos, quitar la  coma)\n",
    "\n",
    "forbes23 = forbes23.replace(',','',regex= True) # regex: expresión regular\n",
    "forbes23"
   ]
  },
  {
   "cell_type": "code",
   "execution_count": 76,
   "metadata": {},
   "outputs": [
    {
     "data": {
      "text/plain": [
       "Rank            0\n",
       "Company         0\n",
       "Country         0\n",
       "Sales           0\n",
       "Profits         0\n",
       "Assets          0\n",
       "Market_value    0\n",
       "dtype: int64"
      ]
     },
     "execution_count": 76,
     "metadata": {},
     "output_type": "execute_result"
    }
   ],
   "source": [
    "forbes23.isnull().sum()"
   ]
  },
  {
   "cell_type": "code",
   "execution_count": 77,
   "metadata": {},
   "outputs": [
    {
     "data": {
      "text/plain": [
       "Index(['Rank', 'Company', 'Country', 'Sales', 'Profits', 'Assets',\n",
       "       'Market_value'],\n",
       "      dtype='object')"
      ]
     },
     "execution_count": 77,
     "metadata": {},
     "output_type": "execute_result"
    }
   ],
   "source": [
    "### Proceso de Limpieza de Datos: Cambiar el nombre de las variables \n",
    "forbes23.columns = ['Rank','Company','Country','Sales','Profits','Assets','Market_value']\n",
    "forbes23.columns"
   ]
  },
  {
   "cell_type": "code",
   "execution_count": 78,
   "metadata": {},
   "outputs": [
    {
     "data": {
      "text/html": [
       "<div>\n",
       "<style scoped>\n",
       "    .dataframe tbody tr th:only-of-type {\n",
       "        vertical-align: middle;\n",
       "    }\n",
       "\n",
       "    .dataframe tbody tr th {\n",
       "        vertical-align: top;\n",
       "    }\n",
       "\n",
       "    .dataframe thead th {\n",
       "        text-align: right;\n",
       "    }\n",
       "</style>\n",
       "<table border=\"1\" class=\"dataframe\">\n",
       "  <thead>\n",
       "    <tr style=\"text-align: right;\">\n",
       "      <th></th>\n",
       "      <th>Rank</th>\n",
       "      <th>Company</th>\n",
       "      <th>Country</th>\n",
       "      <th>Sales</th>\n",
       "      <th>Profits</th>\n",
       "      <th>Assets</th>\n",
       "      <th>Market_value</th>\n",
       "    </tr>\n",
       "  </thead>\n",
       "  <tbody>\n",
       "    <tr>\n",
       "      <th>0</th>\n",
       "      <td>1</td>\n",
       "      <td>JPMorgan Chase</td>\n",
       "      <td>United States</td>\n",
       "      <td>179930.0</td>\n",
       "      <td>41800.0</td>\n",
       "      <td>3744300.0</td>\n",
       "      <td>399590.0</td>\n",
       "    </tr>\n",
       "    <tr>\n",
       "      <th>1</th>\n",
       "      <td>2</td>\n",
       "      <td>Saudi Arabian Oil Company (Saudi Aramco)</td>\n",
       "      <td>Saudi Arabia</td>\n",
       "      <td>589470.0</td>\n",
       "      <td>156360.0</td>\n",
       "      <td>660990.0</td>\n",
       "      <td>2055220.0</td>\n",
       "    </tr>\n",
       "    <tr>\n",
       "      <th>2</th>\n",
       "      <td>3</td>\n",
       "      <td>ICBC</td>\n",
       "      <td>China</td>\n",
       "      <td>216770.0</td>\n",
       "      <td>52470.0</td>\n",
       "      <td>6116820.0</td>\n",
       "      <td>203010.0</td>\n",
       "    </tr>\n",
       "    <tr>\n",
       "      <th>3</th>\n",
       "      <td>4</td>\n",
       "      <td>China Construction Bank</td>\n",
       "      <td>China</td>\n",
       "      <td>203080.0</td>\n",
       "      <td>48250.0</td>\n",
       "      <td>4977480.0</td>\n",
       "      <td>172990.0</td>\n",
       "    </tr>\n",
       "    <tr>\n",
       "      <th>4</th>\n",
       "      <td>5</td>\n",
       "      <td>Agricultural Bank of China</td>\n",
       "      <td>China</td>\n",
       "      <td>186140.0</td>\n",
       "      <td>37920.0</td>\n",
       "      <td>5356860.0</td>\n",
       "      <td>141820.0</td>\n",
       "    </tr>\n",
       "    <tr>\n",
       "      <th>...</th>\n",
       "      <td>...</td>\n",
       "      <td>...</td>\n",
       "      <td>...</td>\n",
       "      <td>...</td>\n",
       "      <td>...</td>\n",
       "      <td>...</td>\n",
       "      <td>...</td>\n",
       "    </tr>\n",
       "    <tr>\n",
       "      <th>1995</th>\n",
       "      <td>1996</td>\n",
       "      <td>Alfa Laval</td>\n",
       "      <td>Sweden</td>\n",
       "      <td>5350.0</td>\n",
       "      <td>4895.0</td>\n",
       "      <td>7820.0</td>\n",
       "      <td>15600.0</td>\n",
       "    </tr>\n",
       "    <tr>\n",
       "      <th>1996</th>\n",
       "      <td>1996</td>\n",
       "      <td>Gap</td>\n",
       "      <td>United States</td>\n",
       "      <td>15620.0</td>\n",
       "      <td>-202.0</td>\n",
       "      <td>11390.0</td>\n",
       "      <td>3170.0</td>\n",
       "    </tr>\n",
       "    <tr>\n",
       "      <th>1997</th>\n",
       "      <td>1996</td>\n",
       "      <td>Yes Bank</td>\n",
       "      <td>India</td>\n",
       "      <td>3340.0</td>\n",
       "      <td>916.0</td>\n",
       "      <td>43220.0</td>\n",
       "      <td>5600.0</td>\n",
       "    </tr>\n",
       "    <tr>\n",
       "      <th>1998</th>\n",
       "      <td>1999</td>\n",
       "      <td>BEKB-BCBE</td>\n",
       "      <td>Switzerland</td>\n",
       "      <td>556.0</td>\n",
       "      <td>1671.0</td>\n",
       "      <td>42970.0</td>\n",
       "      <td>2490.0</td>\n",
       "    </tr>\n",
       "    <tr>\n",
       "      <th>1999</th>\n",
       "      <td>1999</td>\n",
       "      <td>Ipsen</td>\n",
       "      <td>France</td>\n",
       "      <td>3180.0</td>\n",
       "      <td>6817.0</td>\n",
       "      <td>5990.0</td>\n",
       "      <td>10210.0</td>\n",
       "    </tr>\n",
       "  </tbody>\n",
       "</table>\n",
       "<p>2000 rows × 7 columns</p>\n",
       "</div>"
      ],
      "text/plain": [
       "      Rank                                   Company        Country     Sales  \\\n",
       "0        1                            JPMorgan Chase  United States  179930.0   \n",
       "1        2  Saudi Arabian Oil Company (Saudi Aramco)   Saudi Arabia  589470.0   \n",
       "2        3                                      ICBC          China  216770.0   \n",
       "3        4                   China Construction Bank          China  203080.0   \n",
       "4        5                Agricultural Bank of China          China  186140.0   \n",
       "...    ...                                       ...            ...       ...   \n",
       "1995  1996                                Alfa Laval         Sweden    5350.0   \n",
       "1996  1996                                       Gap  United States   15620.0   \n",
       "1997  1996                                  Yes Bank          India    3340.0   \n",
       "1998  1999                                 BEKB-BCBE    Switzerland     556.0   \n",
       "1999  1999                                     Ipsen         France    3180.0   \n",
       "\n",
       "       Profits     Assets  Market_value  \n",
       "0      41800.0  3744300.0      399590.0  \n",
       "1     156360.0   660990.0     2055220.0  \n",
       "2      52470.0  6116820.0      203010.0  \n",
       "3      48250.0  4977480.0      172990.0  \n",
       "4      37920.0  5356860.0      141820.0  \n",
       "...        ...        ...           ...  \n",
       "1995    4895.0     7820.0       15600.0  \n",
       "1996    -202.0    11390.0        3170.0  \n",
       "1997     916.0    43220.0        5600.0  \n",
       "1998    1671.0    42970.0        2490.0  \n",
       "1999    6817.0     5990.0       10210.0  \n",
       "\n",
       "[2000 rows x 7 columns]"
      ]
     },
     "execution_count": 78,
     "metadata": {},
     "output_type": "execute_result"
    }
   ],
   "source": [
    "forbes23"
   ]
  },
  {
   "cell_type": "code",
   "execution_count": 79,
   "metadata": {},
   "outputs": [
    {
     "data": {
      "text/html": [
       "<div>\n",
       "<style scoped>\n",
       "    .dataframe tbody tr th:only-of-type {\n",
       "        vertical-align: middle;\n",
       "    }\n",
       "\n",
       "    .dataframe tbody tr th {\n",
       "        vertical-align: top;\n",
       "    }\n",
       "\n",
       "    .dataframe thead th {\n",
       "        text-align: right;\n",
       "    }\n",
       "</style>\n",
       "<table border=\"1\" class=\"dataframe\">\n",
       "  <thead>\n",
       "    <tr style=\"text-align: right;\">\n",
       "      <th></th>\n",
       "      <th>Rank</th>\n",
       "      <th>Sales</th>\n",
       "      <th>Profits</th>\n",
       "      <th>Assets</th>\n",
       "      <th>Market_value</th>\n",
       "    </tr>\n",
       "  </thead>\n",
       "  <tbody>\n",
       "    <tr>\n",
       "      <th>count</th>\n",
       "      <td>2000.000000</td>\n",
       "      <td>2000.000000</td>\n",
       "      <td>2000.000000</td>\n",
       "      <td>2.000000e+03</td>\n",
       "      <td>2.000000e+03</td>\n",
       "    </tr>\n",
       "    <tr>\n",
       "      <th>mean</th>\n",
       "      <td>1000.309500</td>\n",
       "      <td>25422.461000</td>\n",
       "      <td>3833.134000</td>\n",
       "      <td>1.158463e+05</td>\n",
       "      <td>3.699562e+04</td>\n",
       "    </tr>\n",
       "    <tr>\n",
       "      <th>std</th>\n",
       "      <td>577.395083</td>\n",
       "      <td>46517.172959</td>\n",
       "      <td>6919.101006</td>\n",
       "      <td>3.722422e+05</td>\n",
       "      <td>1.142306e+05</td>\n",
       "    </tr>\n",
       "    <tr>\n",
       "      <th>min</th>\n",
       "      <td>1.000000</td>\n",
       "      <td>-109990.000000</td>\n",
       "      <td>-76170.000000</td>\n",
       "      <td>1.050000e+02</td>\n",
       "      <td>3.200000e+01</td>\n",
       "    </tr>\n",
       "    <tr>\n",
       "      <th>25%</th>\n",
       "      <td>500.750000</td>\n",
       "      <td>5770.000000</td>\n",
       "      <td>1220.000000</td>\n",
       "      <td>1.472000e+04</td>\n",
       "      <td>6.860000e+03</td>\n",
       "    </tr>\n",
       "    <tr>\n",
       "      <th>50%</th>\n",
       "      <td>1000.500000</td>\n",
       "      <td>12500.000000</td>\n",
       "      <td>2575.500000</td>\n",
       "      <td>3.165500e+04</td>\n",
       "      <td>1.531000e+04</td>\n",
       "    </tr>\n",
       "    <tr>\n",
       "      <th>75%</th>\n",
       "      <td>1499.500000</td>\n",
       "      <td>25170.000000</td>\n",
       "      <td>5872.750000</td>\n",
       "      <td>7.697250e+04</td>\n",
       "      <td>3.404250e+04</td>\n",
       "    </tr>\n",
       "    <tr>\n",
       "      <th>max</th>\n",
       "      <td>1999.000000</td>\n",
       "      <td>611290.000000</td>\n",
       "      <td>156360.000000</td>\n",
       "      <td>6.116820e+06</td>\n",
       "      <td>2.746210e+06</td>\n",
       "    </tr>\n",
       "  </tbody>\n",
       "</table>\n",
       "</div>"
      ],
      "text/plain": [
       "              Rank          Sales        Profits        Assets  Market_value\n",
       "count  2000.000000    2000.000000    2000.000000  2.000000e+03  2.000000e+03\n",
       "mean   1000.309500   25422.461000    3833.134000  1.158463e+05  3.699562e+04\n",
       "std     577.395083   46517.172959    6919.101006  3.722422e+05  1.142306e+05\n",
       "min       1.000000 -109990.000000  -76170.000000  1.050000e+02  3.200000e+01\n",
       "25%     500.750000    5770.000000    1220.000000  1.472000e+04  6.860000e+03\n",
       "50%    1000.500000   12500.000000    2575.500000  3.165500e+04  1.531000e+04\n",
       "75%    1499.500000   25170.000000    5872.750000  7.697250e+04  3.404250e+04\n",
       "max    1999.000000  611290.000000  156360.000000  6.116820e+06  2.746210e+06"
      ]
     },
     "execution_count": 79,
     "metadata": {},
     "output_type": "execute_result"
    }
   ],
   "source": [
    "# La función describe de Pandas regresa estadísticas descriptivas incluyendo: media, meadiana, máx, mín, std y conteos para una columna en particular de los datos. Solo regresa los valores de estas estadísticas para las columnas numéricas.\n",
    "forbes23.columns = ['Rank','Company','Country','Sales','Profits','Assets','Market_value']\n",
    "forbes23.columns\n",
    "forbes23.describe() "
   ]
  },
  {
   "cell_type": "code",
   "execution_count": 80,
   "metadata": {},
   "outputs": [
    {
     "name": "stdout",
     "output_type": "stream",
     "text": [
      "Sales\n",
      "-109990.0    1\n",
      "-74520.0     1\n",
      "-38600.0     1\n",
      "-25510.0     1\n",
      "-9090.0      1\n",
      "            ..\n",
      " 453560.0    1\n",
      " 457400.0    1\n",
      " 524900.0    1\n",
      " 589470.0    1\n",
      " 611290.0    1\n",
      "Length: 1568, dtype: int64\n"
     ]
    }
   ],
   "source": [
    "print(forbes23.groupby('Sales' ).size()) #Para saber cuantos registros tiene de cada uno"
   ]
  },
  {
   "cell_type": "code",
   "execution_count": 81,
   "metadata": {},
   "outputs": [
    {
     "data": {
      "image/png": "[encoded data removed]",
      "text/plain": [
       "<Figure size 640x480 with 4 Axes>"
      ]
     },
     "metadata": {},
     "output_type": "display_data"
    }
   ],
   "source": [
    "forbes23.drop(['Sales'], axis=1).hist() #Ver graficamente los datos para tener una idea de la dispersión de los mismos:\n",
    "plt.show()"
   ]
  },
  {
   "cell_type": "code",
   "execution_count": 82,
   "metadata": {},
   "outputs": [
    {
     "name": "stderr",
     "output_type": "stream",
     "text": [
      "c:\\Users\\USUARIO\\AppData\\Local\\Programs\\Python\\Python311\\Lib\\site-packages\\seaborn\\axisgrid.py:2095: UserWarning: The `size` parameter has been renamed to `height`; please update your code.\n",
      "  warnings.warn(msg, UserWarning)\n",
      "c:\\Users\\USUARIO\\AppData\\Local\\Programs\\Python\\Python311\\Lib\\site-packages\\seaborn\\_oldcore.py:1498: FutureWarning: is_categorical_dtype is deprecated and will be removed in a future version. Use isinstance(dtype, CategoricalDtype) instead\n",
      "  if pd.api.types.is_categorical_dtype(vector):\n",
      "c:\\Users\\USUARIO\\AppData\\Local\\Programs\\Python\\Python311\\Lib\\site-packages\\seaborn\\_oldcore.py:1498: FutureWarning: is_categorical_dtype is deprecated and will be removed in a future version. Use isinstance(dtype, CategoricalDtype) instead\n",
      "  if pd.api.types.is_categorical_dtype(vector):\n",
      "c:\\Users\\USUARIO\\AppData\\Local\\Programs\\Python\\Python311\\Lib\\site-packages\\seaborn\\_oldcore.py:1498: FutureWarning: is_categorical_dtype is deprecated and will be removed in a future version. Use isinstance(dtype, CategoricalDtype) instead\n",
      "  if pd.api.types.is_categorical_dtype(vector):\n",
      "c:\\Users\\USUARIO\\AppData\\Local\\Programs\\Python\\Python311\\Lib\\site-packages\\seaborn\\_oldcore.py:1498: FutureWarning: is_categorical_dtype is deprecated and will be removed in a future version. Use isinstance(dtype, CategoricalDtype) instead\n",
      "  if pd.api.types.is_categorical_dtype(vector):\n",
      "c:\\Users\\USUARIO\\AppData\\Local\\Programs\\Python\\Python311\\Lib\\site-packages\\seaborn\\_oldcore.py:1498: FutureWarning: is_categorical_dtype is deprecated and will be removed in a future version. Use isinstance(dtype, CategoricalDtype) instead\n",
      "  if pd.api.types.is_categorical_dtype(vector):\n",
      "c:\\Users\\USUARIO\\AppData\\Local\\Programs\\Python\\Python311\\Lib\\site-packages\\seaborn\\_oldcore.py:1498: FutureWarning: is_categorical_dtype is deprecated and will be removed in a future version. Use isinstance(dtype, CategoricalDtype) instead\n",
      "  if pd.api.types.is_categorical_dtype(vector):\n",
      "c:\\Users\\USUARIO\\AppData\\Local\\Programs\\Python\\Python311\\Lib\\site-packages\\seaborn\\_oldcore.py:1498: FutureWarning: is_categorical_dtype is deprecated and will be removed in a future version. Use isinstance(dtype, CategoricalDtype) instead\n",
      "  if pd.api.types.is_categorical_dtype(vector):\n",
      "c:\\Users\\USUARIO\\AppData\\Local\\Programs\\Python\\Python311\\Lib\\site-packages\\seaborn\\_oldcore.py:1498: FutureWarning: is_categorical_dtype is deprecated and will be removed in a future version. Use isinstance(dtype, CategoricalDtype) instead\n",
      "  if pd.api.types.is_categorical_dtype(vector):\n"
     ]
    },
    {
     "name": "stderr",
     "output_type": "stream",
     "text": [
      "c:\\Users\\USUARIO\\AppData\\Local\\Programs\\Python\\Python311\\Lib\\site-packages\\seaborn\\_oldcore.py:1498: FutureWarning: is_categorical_dtype is deprecated and will be removed in a future version. Use isinstance(dtype, CategoricalDtype) instead\n",
      "  if pd.api.types.is_categorical_dtype(vector):\n",
      "c:\\Users\\USUARIO\\AppData\\Local\\Programs\\Python\\Python311\\Lib\\site-packages\\seaborn\\_oldcore.py:1498: FutureWarning: is_categorical_dtype is deprecated and will be removed in a future version. Use isinstance(dtype, CategoricalDtype) instead\n",
      "  if pd.api.types.is_categorical_dtype(vector):\n",
      "c:\\Users\\USUARIO\\AppData\\Local\\Programs\\Python\\Python311\\Lib\\site-packages\\seaborn\\_oldcore.py:1119: FutureWarning: use_inf_as_na option is deprecated and will be removed in a future version. Convert inf values to NaN before operating instead.\n",
      "  with pd.option_context('mode.use_inf_as_na', True):\n",
      "c:\\Users\\USUARIO\\AppData\\Local\\Programs\\Python\\Python311\\Lib\\site-packages\\seaborn\\_oldcore.py:1498: FutureWarning: is_categorical_dtype is deprecated and will be removed in a future version. Use isinstance(dtype, CategoricalDtype) instead\n",
      "  if pd.api.types.is_categorical_dtype(vector):\n",
      "c:\\Users\\USUARIO\\AppData\\Local\\Programs\\Python\\Python311\\Lib\\site-packages\\seaborn\\_oldcore.py:1498: FutureWarning: is_categorical_dtype is deprecated and will be removed in a future version. Use isinstance(dtype, CategoricalDtype) instead\n",
      "  if pd.api.types.is_categorical_dtype(vector):\n",
      "c:\\Users\\USUARIO\\AppData\\Local\\Programs\\Python\\Python311\\Lib\\site-packages\\seaborn\\_oldcore.py:1119: FutureWarning: use_inf_as_na option is deprecated and will be removed in a future version. Convert inf values to NaN before operating instead.\n",
      "  with pd.option_context('mode.use_inf_as_na', True):\n",
      "c:\\Users\\USUARIO\\AppData\\Local\\Programs\\Python\\Python311\\Lib\\site-packages\\seaborn\\_oldcore.py:1498: FutureWarning: is_categorical_dtype is deprecated and will be removed in a future version. Use isinstance(dtype, CategoricalDtype) instead\n",
      "  if pd.api.types.is_categorical_dtype(vector):\n",
      "c:\\Users\\USUARIO\\AppData\\Local\\Programs\\Python\\Python311\\Lib\\site-packages\\seaborn\\_oldcore.py:1498: FutureWarning: is_categorical_dtype is deprecated and will be removed in a future version. Use isinstance(dtype, CategoricalDtype) instead\n",
      "  if pd.api.types.is_categorical_dtype(vector):\n",
      "c:\\Users\\USUARIO\\AppData\\Local\\Programs\\Python\\Python311\\Lib\\site-packages\\seaborn\\_oldcore.py:1119: FutureWarning: use_inf_as_na option is deprecated and will be removed in a future version. Convert inf values to NaN before operating instead.\n",
      "  with pd.option_context('mode.use_inf_as_na', True):\n",
      "c:\\Users\\USUARIO\\AppData\\Local\\Programs\\Python\\Python311\\Lib\\site-packages\\seaborn\\_oldcore.py:1498: FutureWarning: is_categorical_dtype is deprecated and will be removed in a future version. Use isinstance(dtype, CategoricalDtype) instead\n",
      "  if pd.api.types.is_categorical_dtype(vector):\n",
      "c:\\Users\\USUARIO\\AppData\\Local\\Programs\\Python\\Python311\\Lib\\site-packages\\seaborn\\_oldcore.py:1498: FutureWarning: is_categorical_dtype is deprecated and will be removed in a future version. Use isinstance(dtype, CategoricalDtype) instead\n",
      "  if pd.api.types.is_categorical_dtype(vector):\n",
      "c:\\Users\\USUARIO\\AppData\\Local\\Programs\\Python\\Python311\\Lib\\site-packages\\seaborn\\_oldcore.py:1498: FutureWarning: is_categorical_dtype is deprecated and will be removed in a future version. Use isinstance(dtype, CategoricalDtype) instead\n",
      "  if pd.api.types.is_categorical_dtype(vector):\n",
      "c:\\Users\\USUARIO\\AppData\\Local\\Programs\\Python\\Python311\\Lib\\site-packages\\seaborn\\_oldcore.py:1498: FutureWarning: is_categorical_dtype is deprecated and will be removed in a future version. Use isinstance(dtype, CategoricalDtype) instead\n",
      "  if pd.api.types.is_categorical_dtype(vector):\n",
      "c:\\Users\\USUARIO\\AppData\\Local\\Programs\\Python\\Python311\\Lib\\site-packages\\seaborn\\_oldcore.py:1498: FutureWarning: is_categorical_dtype is deprecated and will be removed in a future version. Use isinstance(dtype, CategoricalDtype) instead\n",
      "  if pd.api.types.is_categorical_dtype(vector):\n",
      "c:\\Users\\USUARIO\\AppData\\Local\\Programs\\Python\\Python311\\Lib\\site-packages\\seaborn\\_oldcore.py:1498: FutureWarning: is_categorical_dtype is deprecated and will be removed in a future version. Use isinstance(dtype, CategoricalDtype) instead\n",
      "  if pd.api.types.is_categorical_dtype(vector):\n",
      "c:\\Users\\USUARIO\\AppData\\Local\\Programs\\Python\\Python311\\Lib\\site-packages\\seaborn\\_oldcore.py:1498: FutureWarning: is_categorical_dtype is deprecated and will be removed in a future version. Use isinstance(dtype, CategoricalDtype) instead\n",
      "  if pd.api.types.is_categorical_dtype(vector):\n",
      "c:\\Users\\USUARIO\\AppData\\Local\\Programs\\Python\\Python311\\Lib\\site-packages\\seaborn\\_oldcore.py:1498: FutureWarning: is_categorical_dtype is deprecated and will be removed in a future version. Use isinstance(dtype, CategoricalDtype) instead\n",
      "  if pd.api.types.is_categorical_dtype(vector):\n",
      "c:\\Users\\USUARIO\\AppData\\Local\\Programs\\Python\\Python311\\Lib\\site-packages\\seaborn\\_oldcore.py:1498: FutureWarning: is_categorical_dtype is deprecated and will be removed in a future version. Use isinstance(dtype, CategoricalDtype) instead\n",
      "  if pd.api.types.is_categorical_dtype(vector):\n",
      "c:\\Users\\USUARIO\\AppData\\Local\\Programs\\Python\\Python311\\Lib\\site-packages\\seaborn\\_oldcore.py:1498: FutureWarning: is_categorical_dtype is deprecated and will be removed in a future version. Use isinstance(dtype, CategoricalDtype) instead\n",
      "  if pd.api.types.is_categorical_dtype(vector):\n",
      "c:\\Users\\USUARIO\\AppData\\Local\\Programs\\Python\\Python311\\Lib\\site-packages\\seaborn\\_oldcore.py:1498: FutureWarning: is_categorical_dtype is deprecated and will be removed in a future version. Use isinstance(dtype, CategoricalDtype) instead\n",
      "  if pd.api.types.is_categorical_dtype(vector):\n",
      "c:\\Users\\USUARIO\\AppData\\Local\\Programs\\Python\\Python311\\Lib\\site-packages\\seaborn\\_oldcore.py:1498: FutureWarning: is_categorical_dtype is deprecated and will be removed in a future version. Use isinstance(dtype, CategoricalDtype) instead\n",
      "  if pd.api.types.is_categorical_dtype(vector):\n",
      "c:\\Users\\USUARIO\\AppData\\Local\\Programs\\Python\\Python311\\Lib\\site-packages\\seaborn\\_oldcore.py:1498: FutureWarning: is_categorical_dtype is deprecated and will be removed in a future version. Use isinstance(dtype, CategoricalDtype) instead\n",
      "  if pd.api.types.is_categorical_dtype(vector):\n",
      "c:\\Users\\USUARIO\\AppData\\Local\\Programs\\Python\\Python311\\Lib\\site-packages\\seaborn\\_oldcore.py:1498: FutureWarning: is_categorical_dtype is deprecated and will be removed in a future version. Use isinstance(dtype, CategoricalDtype) instead\n",
      "  if pd.api.types.is_categorical_dtype(vector):\n",
      "c:\\Users\\USUARIO\\AppData\\Local\\Programs\\Python\\Python311\\Lib\\site-packages\\seaborn\\_oldcore.py:1498: FutureWarning: is_categorical_dtype is deprecated and will be removed in a future version. Use isinstance(dtype, CategoricalDtype) instead\n",
      "  if pd.api.types.is_categorical_dtype(vector):\n",
      "c:\\Users\\USUARIO\\AppData\\Local\\Programs\\Python\\Python311\\Lib\\site-packages\\seaborn\\_oldcore.py:1498: FutureWarning: is_categorical_dtype is deprecated and will be removed in a future version. Use isinstance(dtype, CategoricalDtype) instead\n",
      "  if pd.api.types.is_categorical_dtype(vector):\n",
      "c:\\Users\\USUARIO\\AppData\\Local\\Programs\\Python\\Python311\\Lib\\site-packages\\seaborn\\_oldcore.py:1498: FutureWarning: is_categorical_dtype is deprecated and will be removed in a future version. Use isinstance(dtype, CategoricalDtype) instead\n",
      "  if pd.api.types.is_categorical_dtype(vector):\n",
      "c:\\Users\\USUARIO\\AppData\\Local\\Programs\\Python\\Python311\\Lib\\site-packages\\seaborn\\_oldcore.py:1498: FutureWarning: is_categorical_dtype is deprecated and will be removed in a future version. Use isinstance(dtype, CategoricalDtype) instead\n",
      "  if pd.api.types.is_categorical_dtype(vector):\n"
     ]
    },
    {
     "data": {
      "text/plain": [
       "<seaborn.axisgrid.PairGrid at 0x27c4399ab50>"
      ]
     },
     "execution_count": 82,
     "metadata": {},
     "output_type": "execute_result"
    },
    {
     "data": {
      "image/png": "[encoded data removed]",
      "text/plain": [
       "<Figure size 1306.12x1200 with 12 Axes>"
      ]
     },
     "metadata": {},
     "output_type": "display_data"
    }
   ],
   "source": [
    "\n",
    "import seaborn as sb  \n",
    "sb.pairplot(forbes23.dropna(), hue='Sales',size=4,vars=[\"Rank\",\"Assets\",\"Market_value\"],kind='scatter')\n",
    "# En este caso se seleccionan 3 dimensiones: Rank, Assets y Market_value y se cruzan para ver si se ve alguna pista de su agrupación y la relación con sus Sales(ventas)."
   ]
  },
  {
   "cell_type": "markdown",
   "metadata": {},
   "source": [
    "Revisando la gráfica no pareciera que haya algún tipo de agrupación o correlación entre lsales (ventas) y sus variables."
   ]
  },
  {
   "cell_type": "code",
   "execution_count": 83,
   "metadata": {},
   "outputs": [
    {
     "data": {
      "text/plain": [
       "(2000, 3)"
      ]
     },
     "execution_count": 83,
     "metadata": {},
     "output_type": "execute_result"
    }
   ],
   "source": [
    "# Definir la entrada\n",
    "# Se Concreta la estructura de datos que se utilizara para alimentar el algoritmo. Como se ve, sólo se cargo las columnas Rank, Assets y Market_value en la variable X.\n",
    "\n",
    "X = np.array(forbes23[[\"Rank\",\"Assets\",\"Market_value\"]])\n",
    "y = np.array(forbes23['Sales'])\n",
    "X.shape"
   ]
  },
  {
   "cell_type": "markdown",
   "metadata": {},
   "source": [
    "Representación gráfica de los datos\n",
    "\n",
    "Ahora se va ha echar un vistazo a la representación gráfica de los datos. En el eje x se representa las ventas  (Sales) y en el eje y Assets (activos):"
   ]
  },
  {
   "cell_type": "code",
   "execution_count": 84,
   "metadata": {},
   "outputs": [
    {
     "data": {
      "text/plain": [
       "[<matplotlib.lines.Line2D at 0x27c2dfeeed0>]"
      ]
     },
     "execution_count": 84,
     "metadata": {},
     "output_type": "execute_result"
    },
    {
     "data": {
      "image/png": "[encoded data removed]",
      "text/plain": [
       "<Figure size 640x480 with 1 Axes>"
      ]
     },
     "metadata": {},
     "output_type": "display_data"
    }
   ],
   "source": [
    "#%% Representación gráfica de los datos.\n",
    "df_escalado=forbes23\n",
    "x = df_escalado['Sales'].values\n",
    "y = df_escalado['Assets'].values\n",
    "plt.xlabel('Sales ventas')\n",
    "plt.ylabel('Assets activos')\n",
    "plt.title('Forbes 2023 Sales vs. Assets')\n",
    "plt.plot(x,y,'o',markersize=1)"
   ]
  },
  {
   "cell_type": "markdown",
   "metadata": {},
   "source": [
    "Obtener el valor K\n",
    "Se hallara el valor de K haciendo una gráfica e intentando hallar el “punto de codo” que se comento antes. Este es el resultado:"
   ]
  },
  {
   "cell_type": "code",
   "execution_count": 85,
   "metadata": {},
   "outputs": [
    {
     "name": "stderr",
     "output_type": "stream",
     "text": [
      "c:\\Users\\USUARIO\\AppData\\Local\\Programs\\Python\\Python311\\Lib\\site-packages\\sklearn\\cluster\\_kmeans.py:1416: FutureWarning: The default value of `n_init` will change from 10 to 'auto' in 1.4. Set the value of `n_init` explicitly to suppress the warning\n",
      "  super()._check_params_vs_input(X, default_n_init=10)\n",
      "c:\\Users\\USUARIO\\AppData\\Local\\Programs\\Python\\Python311\\Lib\\site-packages\\sklearn\\cluster\\_kmeans.py:1416: FutureWarning: The default value of `n_init` will change from 10 to 'auto' in 1.4. Set the value of `n_init` explicitly to suppress the warning\n",
      "  super()._check_params_vs_input(X, default_n_init=10)\n",
      "c:\\Users\\USUARIO\\AppData\\Local\\Programs\\Python\\Python311\\Lib\\site-packages\\sklearn\\cluster\\_kmeans.py:1416: FutureWarning: The default value of `n_init` will change from 10 to 'auto' in 1.4. Set the value of `n_init` explicitly to suppress the warning\n",
      "  super()._check_params_vs_input(X, default_n_init=10)\n",
      "c:\\Users\\USUARIO\\AppData\\Local\\Programs\\Python\\Python311\\Lib\\site-packages\\sklearn\\cluster\\_kmeans.py:1416: FutureWarning: The default value of `n_init` will change from 10 to 'auto' in 1.4. Set the value of `n_init` explicitly to suppress the warning\n",
      "  super()._check_params_vs_input(X, default_n_init=10)\n",
      "c:\\Users\\USUARIO\\AppData\\Local\\Programs\\Python\\Python311\\Lib\\site-packages\\sklearn\\cluster\\_kmeans.py:1416: FutureWarning: The default value of `n_init` will change from 10 to 'auto' in 1.4. Set the value of `n_init` explicitly to suppress the warning\n",
      "  super()._check_params_vs_input(X, default_n_init=10)\n",
      "c:\\Users\\USUARIO\\AppData\\Local\\Programs\\Python\\Python311\\Lib\\site-packages\\sklearn\\cluster\\_kmeans.py:1416: FutureWarning: The default value of `n_init` will change from 10 to 'auto' in 1.4. Set the value of `n_init` explicitly to suppress the warning\n",
      "  super()._check_params_vs_input(X, default_n_init=10)\n",
      "c:\\Users\\USUARIO\\AppData\\Local\\Programs\\Python\\Python311\\Lib\\site-packages\\sklearn\\cluster\\_kmeans.py:1416: FutureWarning: The default value of `n_init` will change from 10 to 'auto' in 1.4. Set the value of `n_init` explicitly to suppress the warning\n",
      "  super()._check_params_vs_input(X, default_n_init=10)\n",
      "c:\\Users\\USUARIO\\AppData\\Local\\Programs\\Python\\Python311\\Lib\\site-packages\\sklearn\\cluster\\_kmeans.py:1416: FutureWarning: The default value of `n_init` will change from 10 to 'auto' in 1.4. Set the value of `n_init` explicitly to suppress the warning\n",
      "  super()._check_params_vs_input(X, default_n_init=10)\n",
      "c:\\Users\\USUARIO\\AppData\\Local\\Programs\\Python\\Python311\\Lib\\site-packages\\sklearn\\cluster\\_kmeans.py:1416: FutureWarning: The default value of `n_init` will change from 10 to 'auto' in 1.4. Set the value of `n_init` explicitly to suppress the warning\n",
      "  super()._check_params_vs_input(X, default_n_init=10)\n",
      "c:\\Users\\USUARIO\\AppData\\Local\\Programs\\Python\\Python311\\Lib\\site-packages\\sklearn\\cluster\\_kmeans.py:1416: FutureWarning: The default value of `n_init` will change from 10 to 'auto' in 1.4. Set the value of `n_init` explicitly to suppress the warning\n",
      "  super()._check_params_vs_input(X, default_n_init=10)\n",
      "c:\\Users\\USUARIO\\AppData\\Local\\Programs\\Python\\Python311\\Lib\\site-packages\\sklearn\\cluster\\_kmeans.py:1416: FutureWarning: The default value of `n_init` will change from 10 to 'auto' in 1.4. Set the value of `n_init` explicitly to suppress the warning\n",
      "  super()._check_params_vs_input(X, default_n_init=10)\n",
      "c:\\Users\\USUARIO\\AppData\\Local\\Programs\\Python\\Python311\\Lib\\site-packages\\sklearn\\cluster\\_kmeans.py:1416: FutureWarning: The default value of `n_init` will change from 10 to 'auto' in 1.4. Set the value of `n_init` explicitly to suppress the warning\n",
      "  super()._check_params_vs_input(X, default_n_init=10)\n",
      "c:\\Users\\USUARIO\\AppData\\Local\\Programs\\Python\\Python311\\Lib\\site-packages\\sklearn\\cluster\\_kmeans.py:1416: FutureWarning: The default value of `n_init` will change from 10 to 'auto' in 1.4. Set the value of `n_init` explicitly to suppress the warning\n",
      "  super()._check_params_vs_input(X, default_n_init=10)\n",
      "c:\\Users\\USUARIO\\AppData\\Local\\Programs\\Python\\Python311\\Lib\\site-packages\\sklearn\\cluster\\_kmeans.py:1416: FutureWarning: The default value of `n_init` will change from 10 to 'auto' in 1.4. Set the value of `n_init` explicitly to suppress the warning\n",
      "  super()._check_params_vs_input(X, default_n_init=10)\n",
      "c:\\Users\\USUARIO\\AppData\\Local\\Programs\\Python\\Python311\\Lib\\site-packages\\sklearn\\cluster\\_kmeans.py:1416: FutureWarning: The default value of `n_init` will change from 10 to 'auto' in 1.4. Set the value of `n_init` explicitly to suppress the warning\n",
      "  super()._check_params_vs_input(X, default_n_init=10)\n",
      "c:\\Users\\USUARIO\\AppData\\Local\\Programs\\Python\\Python311\\Lib\\site-packages\\sklearn\\cluster\\_kmeans.py:1416: FutureWarning: The default value of `n_init` will change from 10 to 'auto' in 1.4. Set the value of `n_init` explicitly to suppress the warning\n",
      "  super()._check_params_vs_input(X, default_n_init=10)\n",
      "c:\\Users\\USUARIO\\AppData\\Local\\Programs\\Python\\Python311\\Lib\\site-packages\\sklearn\\cluster\\_kmeans.py:1416: FutureWarning: The default value of `n_init` will change from 10 to 'auto' in 1.4. Set the value of `n_init` explicitly to suppress the warning\n",
      "  super()._check_params_vs_input(X, default_n_init=10)\n",
      "c:\\Users\\USUARIO\\AppData\\Local\\Programs\\Python\\Python311\\Lib\\site-packages\\sklearn\\cluster\\_kmeans.py:1416: FutureWarning: The default value of `n_init` will change from 10 to 'auto' in 1.4. Set the value of `n_init` explicitly to suppress the warning\n",
      "  super()._check_params_vs_input(X, default_n_init=10)\n",
      "c:\\Users\\USUARIO\\AppData\\Local\\Programs\\Python\\Python311\\Lib\\site-packages\\sklearn\\cluster\\_kmeans.py:1416: FutureWarning: The default value of `n_init` will change from 10 to 'auto' in 1.4. Set the value of `n_init` explicitly to suppress the warning\n",
      "  super()._check_params_vs_input(X, default_n_init=10)\n"
     ]
    },
    {
     "data": {
      "image/png": "[encoded data removed]",
      "text/plain": [
       "<Figure size 640x480 with 1 Axes>"
      ]
     },
     "metadata": {},
     "output_type": "display_data"
    }
   ],
   "source": [
    "Nc = range(1, 20)\n",
    "kmeans = [KMeans(n_clusters=i) for i in Nc]\n",
    "kmeans\n",
    "score = [kmeans[i].fit(X).score(X) for i in range(len(kmeans))]\n",
    "score\n",
    "plt.plot(Nc,score)\n",
    "plt.xlabel('Number of Clusters')\n",
    "plt.ylabel('Score')\n",
    "plt.title('Elbow Curve')\n",
    "plt.show()"
   ]
  },
  {
   "cell_type": "markdown",
   "metadata": {},
   "source": [
    "Realmente la curva es bastante “suave”. Considero a 5 como un buen número para K. "
   ]
  },
  {
   "cell_type": "markdown",
   "metadata": {},
   "source": [
    "Se ejecuta K-Means\n",
    "Se Ejecutara el algoritmo para 5 clusters y se obtienen las etiquetas y los centroids."
   ]
  },
  {
   "cell_type": "code",
   "execution_count": 86,
   "metadata": {},
   "outputs": [
    {
     "name": "stderr",
     "output_type": "stream",
     "text": [
      "c:\\Users\\USUARIO\\AppData\\Local\\Programs\\Python\\Python311\\Lib\\site-packages\\sklearn\\cluster\\_kmeans.py:1416: FutureWarning: The default value of `n_init` will change from 10 to 'auto' in 1.4. Set the value of `n_init` explicitly to suppress the warning\n",
      "  super()._check_params_vs_input(X, default_n_init=10)\n"
     ]
    },
    {
     "name": "stdout",
     "output_type": "stream",
     "text": [
      "[[1.05685376e+03 4.92861640e+04 2.95193817e+04]\n",
      " [6.25000000e+01 4.82244667e+06 1.73431833e+05]\n",
      " [9.21538462e+01 1.98921154e+06 7.61021923e+04]\n",
      " [3.08384615e+02 5.54072308e+05 7.32128942e+04]\n",
      " [7.00000000e+00 4.35682500e+05 2.11295000e+06]]\n"
     ]
    }
   ],
   "source": [
    "kmeans = KMeans(n_clusters=5).fit(X)\n",
    "centroids = kmeans.cluster_centers_\n",
    "print(centroids)"
   ]
  },
  {
   "cell_type": "markdown",
   "metadata": {},
   "source": [
    "Representación gráfica de los clústeres k-means\n",
    "\n",
    "Una vez con los datos etiquetados, podemos visualizar gráficamente en dos dimensiones el clustering realizado por k-means, ya que se usaron sólo dos variables. "
   ]
  },
  {
   "cell_type": "code",
   "execution_count": 95,
   "metadata": {},
   "outputs": [
    {
     "name": "stdout",
     "output_type": "stream",
     "text": [
      "[[37 28]\n",
      " [26 62]\n",
      " [21 20]\n",
      " [17 80]\n",
      " [76 12]\n",
      " [81 87]\n",
      " [69 71]\n",
      " [10 66]\n",
      " [57  6]\n",
      " [84 87]\n",
      " [33  6]\n",
      " [37  2]\n",
      " [ 5 80]\n",
      " [90 15]\n",
      " [85 91]\n",
      " [35 66]\n",
      " [90 85]\n",
      " [98 77]\n",
      " [39 20]\n",
      " [ 7 37]]\n"
     ]
    }
   ],
   "source": [
    "\n",
    "# df Conjunto de datos de entrada\n",
    "forbes23 = np.random.randint(1, 101, size=(20, 2))\n",
    "print(forbes23) "
   ]
  },
  {
   "cell_type": "code",
   "execution_count": 97,
   "metadata": {},
   "outputs": [
    {
     "data": {
      "text/plain": [
       "<matplotlib.collections.PathCollection at 0x27c4207d190>"
      ]
     },
     "execution_count": 97,
     "metadata": {},
     "output_type": "execute_result"
    },
    {
     "data": {
      "image/png": "[encoded data removed]",
      "text/plain": [
       "<Figure size 640x480 with 1 Axes>"
      ]
     },
     "metadata": {},
     "output_type": "display_data"
    }
   ],
   "source": [
    "# Realicemos un scatterplo\n",
    "sns.set()\n",
    "\n",
    "plt.axis('equal') #Misma escala de los ejes\n",
    "plt.scatter(forbes23[:,0],forbes23[:,1])"
   ]
  },
  {
   "cell_type": "code",
   "execution_count": 89,
   "metadata": {},
   "outputs": [
    {
     "data": {
      "image/png": "[encoded data removed]",
      "text/plain": [
       "<Figure size 640x480 with 1 Axes>"
      ]
     },
     "metadata": {},
     "output_type": "display_data"
    },
    {
     "name": "stdout",
     "output_type": "stream",
     "text": [
      "[41 25] [39 51]\n"
     ]
    }
   ],
   "source": [
    "# Iniciamos los centroides\n",
    "ck = np.random.randint(np.min(forbes23),np.max(forbes23), size=(2, 2))\n",
    "\n",
    "plt.scatter(ck[:,0],ck[:,1],s=100,marker='*')\n",
    "plt.show()\n",
    "print(ck[0,:],ck[1,:])"
   ]
  },
  {
   "cell_type": "code",
   "execution_count": 90,
   "metadata": {},
   "outputs": [
    {
     "data": {
      "image/png": "[encoded data removed]",
      "text/plain": [
       "<Figure size 640x480 with 1 Axes>"
      ]
     },
     "metadata": {},
     "output_type": "display_data"
    },
    {
     "name": "stdout",
     "output_type": "stream",
     "text": [
      "[41 25] [39 51]\n"
     ]
    }
   ],
   "source": [
    "plt.axis('equal') #Misma escala de los ejes\n",
    "plt.scatter(forbes23[:,0],forbes23[:,1])\n",
    "\n",
    "plt.scatter(ck[:,0],ck[:,1],s=100,marker='*')\n",
    "plt.show()\n",
    "print(ck[0,:],ck[1,:])"
   ]
  },
  {
   "cell_type": "code",
   "execution_count": 100,
   "metadata": {},
   "outputs": [
    {
     "name": "stdout",
     "output_type": "stream",
     "text": [
      "[41 25] [39 51]\n",
      "iteration:  4\n"
     ]
    },
    {
     "ename": "IndexError",
     "evalue": "too many indices for array: array is 1-dimensional, but 2 were indexed",
     "output_type": "error",
     "traceback": [
      "\u001b[1;31m---------------------------------------------------------------------------\u001b[0m",
      "\u001b[1;31mIndexError\u001b[0m                                Traceback (most recent call last)",
      "\u001b[1;32mc:\\Users\\USUARIO\\OneDrive\\Documentos\\Uibero Ing de Software\\8 SEMESTRE\\Inteligencia_artificial-main\\cluster_k-means.ipynb Celda 48\u001b[0m line \u001b[0;36m2\n\u001b[0;32m     <a href='vscode-notebook-cell:/c%3A/Users/USUARIO/OneDrive/Documentos/Uibero%20Ing%20de%20Software/8%20SEMESTRE/Inteligencia_artificial-main/cluster_k-means.ipynb#X65sZmlsZQ%3D%3D?line=22'>23</a>\u001b[0m plt\u001b[39m.\u001b[39mscatter(ck[:,\u001b[39m0\u001b[39m],ck[:,\u001b[39m1\u001b[39m],s\u001b[39m=\u001b[39m\u001b[39m100\u001b[39m,marker\u001b[39m=\u001b[39m\u001b[39m'\u001b[39m\u001b[39m*\u001b[39m\u001b[39m'\u001b[39m)\n\u001b[0;32m     <a href='vscode-notebook-cell:/c%3A/Users/USUARIO/OneDrive/Documentos/Uibero%20Ing%20de%20Software/8%20SEMESTRE/Inteligencia_artificial-main/cluster_k-means.ipynb#X65sZmlsZQ%3D%3D?line=23'>24</a>\u001b[0m plt\u001b[39m.\u001b[39mscatter(AC1[:,\u001b[39m0\u001b[39m],AC1[:,\u001b[39m1\u001b[39m], label\u001b[39m=\u001b[39m\u001b[39m'\u001b[39m\u001b[39mTrue Position\u001b[39m\u001b[39m'\u001b[39m)\n\u001b[1;32m---> <a href='vscode-notebook-cell:/c%3A/Users/USUARIO/OneDrive/Documentos/Uibero%20Ing%20de%20Software/8%20SEMESTRE/Inteligencia_artificial-main/cluster_k-means.ipynb#X65sZmlsZQ%3D%3D?line=24'>25</a>\u001b[0m plt\u001b[39m.\u001b[39mscatter(AC2[:,\u001b[39m0\u001b[39;49m],AC2[:,\u001b[39m1\u001b[39m], label\u001b[39m=\u001b[39m\u001b[39m'\u001b[39m\u001b[39mTrue Position\u001b[39m\u001b[39m'\u001b[39m)\n\u001b[0;32m     <a href='vscode-notebook-cell:/c%3A/Users/USUARIO/OneDrive/Documentos/Uibero%20Ing%20de%20Software/8%20SEMESTRE/Inteligencia_artificial-main/cluster_k-means.ipynb#X65sZmlsZQ%3D%3D?line=25'>26</a>\u001b[0m plt\u001b[39m.\u001b[39mshow()\n\u001b[0;32m     <a href='vscode-notebook-cell:/c%3A/Users/USUARIO/OneDrive/Documentos/Uibero%20Ing%20de%20Software/8%20SEMESTRE/Inteligencia_artificial-main/cluster_k-means.ipynb#X65sZmlsZQ%3D%3D?line=27'>28</a>\u001b[0m \u001b[39m# Se actualizan las coordenadas de los centroides\u001b[39;00m\n",
      "\u001b[1;31mIndexError\u001b[0m: too many indices for array: array is 1-dimensional, but 2 were indexed"
     ]
    },
    {
     "data": {
      "image/png": "[encoded data removed]",
      "text/plain": [
       "<Figure size 640x480 with 1 Axes>"
      ]
     },
     "metadata": {},
     "output_type": "display_data"
    }
   ],
   "source": [
    "# Calcular las distancias de cada dato al centroide y reasignar a los conjuntos C1 y C2\n",
    "\n",
    "for iteration in range(5):\n",
    "    C1 = []\n",
    "    C2 = []\n",
    "i=0\n",
    "print(ck[0,:],ck[1,:])\n",
    "for x in forbes23:\n",
    "    dst1 = distance.euclidean(forbes23[i,:], ck[0,:])\n",
    "    dst2 = distance.euclidean(forbes23[i,:], ck[1,:])\n",
    "if dst1 < dst2:\n",
    "    C1.append(forbes23[i,:])\n",
    "else: \n",
    "    C2.append(forbes23[i,:])\n",
    "    i = i+1\n",
    "\n",
    "print('iteration: ', iteration)\n",
    "\n",
    "AC1=np.array(C1)\n",
    "AC2=np.array(C2)\n",
    "\n",
    "plt.axis('equal')\n",
    "plt.scatter(ck[:,0],ck[:,1],s=100,marker='*')\n",
    "plt.scatter(AC1[:,0],AC1[:,1], label='True Position')\n",
    "plt.scatter(AC2[:,0],AC2[:,1], label='True Position')\n",
    "plt.show()\n",
    "\n",
    "# Se actualizan las coordenadas de los centroides\n",
    "ck[0,0] = np.mean(AC1[:,0])\n",
    "ck[0,1] = np.mean(AC1[:,1])\n",
    "\n",
    "ck[1,0] = np.mean(AC2[:,0])\n",
    "ck[1,1] = np.mean(AC2[:,1])"
   ]
  },
  {
   "cell_type": "code",
   "execution_count": null,
   "metadata": {},
   "outputs": [
    {
     "name": "stdout",
     "output_type": "stream",
     "text": [
      "El dato Xn pertenece al cluster:2 con centroide [70 57]\n"
     ]
    },
    {
     "ename": "IndexError",
     "evalue": "too many indices for array: array is 1-dimensional, but 2 were indexed",
     "output_type": "error",
     "traceback": [
      "\u001b[1;31m---------------------------------------------------------------------------\u001b[0m",
      "\u001b[1;31mIndexError\u001b[0m                                Traceback (most recent call last)",
      "\u001b[1;32mc:\\Users\\USUARIO\\OneDrive\\Documentos\\Uibero Ing de Software\\8 SEMESTRE\\Inteligencia_artificial-main\\cluater_k-means.ipynb Celda 51\u001b[0m line \u001b[0;36m2\n\u001b[0;32m     <a href='vscode-notebook-cell:/c%3A/Users/USUARIO/OneDrive/Documentos/Uibero%20Ing%20de%20Software/8%20SEMESTRE/Inteligencia_artificial-main/cluater_k-means.ipynb#Y101sZmlsZQ%3D%3D?line=18'>19</a>\u001b[0m plt\u001b[39m.\u001b[39mscatter(xn[\u001b[39m0\u001b[39m],xn[\u001b[39m1\u001b[39m],s\u001b[39m=\u001b[39m\u001b[39m100\u001b[39m,marker\u001b[39m=\u001b[39m\u001b[39m'\u001b[39m\u001b[39mo\u001b[39m\u001b[39m'\u001b[39m)\n\u001b[0;32m     <a href='vscode-notebook-cell:/c%3A/Users/USUARIO/OneDrive/Documentos/Uibero%20Ing%20de%20Software/8%20SEMESTRE/Inteligencia_artificial-main/cluater_k-means.ipynb#Y101sZmlsZQ%3D%3D?line=19'>20</a>\u001b[0m plt\u001b[39m.\u001b[39mscatter(ck[:,\u001b[39m0\u001b[39m],ck[:,\u001b[39m1\u001b[39m],s\u001b[39m=\u001b[39m\u001b[39m100\u001b[39m,marker\u001b[39m=\u001b[39m\u001b[39m'\u001b[39m\u001b[39m*\u001b[39m\u001b[39m'\u001b[39m)\n\u001b[1;32m---> <a href='vscode-notebook-cell:/c%3A/Users/USUARIO/OneDrive/Documentos/Uibero%20Ing%20de%20Software/8%20SEMESTRE/Inteligencia_artificial-main/cluater_k-means.ipynb#Y101sZmlsZQ%3D%3D?line=20'>21</a>\u001b[0m plt\u001b[39m.\u001b[39mscatter(AC1[:,\u001b[39m0\u001b[39;49m],AC1[:,\u001b[39m1\u001b[39m], label\u001b[39m=\u001b[39m\u001b[39m'\u001b[39m\u001b[39mTrue Position\u001b[39m\u001b[39m'\u001b[39m)\n\u001b[0;32m     <a href='vscode-notebook-cell:/c%3A/Users/USUARIO/OneDrive/Documentos/Uibero%20Ing%20de%20Software/8%20SEMESTRE/Inteligencia_artificial-main/cluater_k-means.ipynb#Y101sZmlsZQ%3D%3D?line=21'>22</a>\u001b[0m plt\u001b[39m.\u001b[39mscatter(AC2[:,\u001b[39m0\u001b[39m],AC2[:,\u001b[39m1\u001b[39m], label\u001b[39m=\u001b[39m\u001b[39m'\u001b[39m\u001b[39mTrue Position\u001b[39m\u001b[39m'\u001b[39m)\n\u001b[0;32m     <a href='vscode-notebook-cell:/c%3A/Users/USUARIO/OneDrive/Documentos/Uibero%20Ing%20de%20Software/8%20SEMESTRE/Inteligencia_artificial-main/cluater_k-means.ipynb#Y101sZmlsZQ%3D%3D?line=22'>23</a>\u001b[0m plt\u001b[39m.\u001b[39mshow()\n",
      "\u001b[1;31mIndexError\u001b[0m: too many indices for array: array is 1-dimensional, but 2 were indexed"
     ]
    },
    {
     "data": {
      "image/png": "[encoded data removed]",
      "text/plain": [
       "<Figure size 640x480 with 1 Axes>"
      ]
     },
     "metadata": {},
     "output_type": "display_data"
    }
   ],
   "source": [
    "# Prediccion del Modelo \n",
    "# Dado un nuevo dato xn, se asigna al conjunto C1 o C2 teniendo en cuenta la distancia\n",
    "# del elemento a los centroides de cada grupo\n",
    "\n",
    "# xn, nuevo dato\n",
    "xn = (20,30)\n",
    "\n",
    "# Distancia de xn a cada centroide\n",
    "dst1 = distance.euclidean(xn, ck[0,:])\n",
    "dst2 = distance.euclidean(xn, ck[1,:])\n",
    "\n",
    "if dst1 < dst2:\n",
    "    print('El dato Xn pertenece al cluster:{} con centroide {}'.format(1,ck[0,:]))\n",
    "else:\n",
    "    print('El dato Xn pertenece al cluster:{} con centroide {}'.format(2,ck[1,:]))\n",
    "\n",
    "plt.axis('equal')\n",
    "plt.title('Predicción del modelo k-means')\n",
    "plt.scatter(xn[0],xn[1],s=100,marker='o')\n",
    "plt.scatter(ck[:,0],ck[:,1],s=100,marker='*')\n",
    "plt.scatter(AC1[:,0],AC1[:,1], label='True Position')\n",
    "plt.scatter(AC2[:,0],AC2[:,1], label='True Position')\n",
    "plt.show()"
   ]
  }
 ],
 "metadata": {
  "kernelspec": {
   "display_name": "Python 3",
   "language": "python",
   "name": "python3"
  },
  "language_info": {
   "codemirror_mode": {
    "name": "ipython",
    "version": 3
   },
   "file_extension": ".py",
   "mimetype": "text/x-python",
   "name": "python",
   "nbconvert_exporter": "python",
   "pygments_lexer": "ipython3",
   "version": "3.11.5"
  },
  "orig_nbformat": 4
 },
 "nbformat": 4,
 "nbformat_minor": 2
}
